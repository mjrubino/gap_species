{
 "cells": [
  {
   "cell_type": "markdown",
   "metadata": {
    "deletable": true,
    "editable": true
   },
   "source": [
    "This notebook uses a local dump that I assembled in a MongoDB database of the GAP range data for processing. I found some errant codes in the data that did not align with the code values that I found in the gapproduction package. The notebook checks the data and reports on any cases where there is a code value that does not have a corresponding code definition/term in the dictionary."
   ]
  },
  {
   "cell_type": "code",
   "execution_count": 1,
   "metadata": {
    "collapsed": true,
    "deletable": true,
    "editable": true
   },
   "outputs": [],
   "source": [
    "from pymongo import MongoClient\n",
    "from IPython.display import display"
   ]
  },
  {
   "cell_type": "code",
   "execution_count": 2,
   "metadata": {
    "collapsed": true,
    "deletable": true,
    "editable": true
   },
   "outputs": [],
   "source": [
    "mdbClient = MongoClient()\n",
    "bis = mdbClient[\"bis\"]\n",
    "gapRangeDataCache = bis[\"gapRangeData\"]"
   ]
  },
  {
   "cell_type": "markdown",
   "metadata": {
    "deletable": true,
    "editable": true
   },
   "source": [
    "This is the dictionary of codes and values for range data that I pulled from https://github.com/nmtarr/GAPProduction/blob/master/gapproduction/dictionaries.py.\n",
    "\n",
    "Eventually, we need to move this content to an appropriate master vocabulary source as part of the Biogeographic Information System. I did that with a set of vocabularies [here](https://www.sciencebase.gov/vocab/category/59f60211e4b09d26336e76eb) and tried to use the ScienceBase Vocab API to drive the code that assembles a cache of the range data for a given species in CSV. Unfortunately, the Vocab app seems to be having some issues with how it builds its index, so I could not use that source directly. We may need to find another tech base to move all the BIS vocabularies into if we cannot get those issues resolved."
   ]
  },
  {
   "cell_type": "code",
   "execution_count": 3,
   "metadata": {
    "collapsed": true,
    "deletable": true,
    "editable": true
   },
   "outputs": [],
   "source": [
    "RangeCodesDict = {\"Presence\": {1: \"Known/extant\", 2: \"Possibly present\", 3: \"Potential for presence\", \n",
    "                               4: \"Extirpated/historical presence\", \n",
    "                               5: \"Extirpated purposely (applies to introduced species only)\",\n",
    "                                6: \"Occurs on indicated island chain\", 7: \"Unknown\"},\n",
    "                \"Origin\": {1: \"Native\", 2: \"Introduced\", 3: \"Either introducted or native\", \n",
    "                           4: \"Reintroduced\", 5: \"Either introduced or reintroduced\",\n",
    "                           6: \"Vagrant\", 7: \"Unknown\"},\n",
    "                \"Reproduction\": {1: \"Breeding\", 2: \"Nonbreeding\", \n",
    "                                 3: \"Both breeding and nonbreeding\", 7: \"Unknown\"},\n",
    "                 \"Season\": {1: \"Year-round\", 2: \"Migratory\", 3: \"Winter\", 4: \"Summer\", \n",
    "                            5: \"Passage migrant or wanderer\", 6: \"Seasonal permanence uncertain\", \n",
    "                            7: \"Unknown\", 8: \"Vagrant\"}}"
   ]
  },
  {
   "cell_type": "markdown",
   "metadata": {
    "deletable": true,
    "editable": true
   },
   "source": [
    "These 4 code blocks check the full set of range data across all 4 taxa groups to see if there are any errant code numbers. You can see the records returned for just a couple of species that need to be examined to see if we made a mistake in assigning codes or need to add new definitions."
   ]
  },
  {
   "cell_type": "code",
   "execution_count": 4,
   "metadata": {
    "collapsed": false,
    "deletable": true,
    "editable": true
   },
   "outputs": [],
   "source": [
    "for rangeRecord in gapRangeDataCache.find({\"intGapPres\":{\"$nin\":list(RangeCodesDict[\"Presence\"].keys())}}):\n",
    "    display (rangeRecord)"
   ]
  },
  {
   "cell_type": "code",
   "execution_count": 5,
   "metadata": {
    "collapsed": true,
    "deletable": true,
    "editable": true
   },
   "outputs": [],
   "source": [
    "for rangeRecord in gapRangeDataCache.find({\"intGapOrigin\":{\"$nin\":list(RangeCodesDict[\"Origin\"].keys())}}):\n",
    "    display (rangeRecord)"
   ]
  },
  {
   "cell_type": "code",
   "execution_count": 6,
   "metadata": {
    "collapsed": false,
    "deletable": true,
    "editable": true
   },
   "outputs": [
    {
     "data": {
      "text/plain": [
       "{'Origin': 'Native',\n",
       " 'Presence': 'Known/extant',\n",
       " 'Reproduction': 'Unknown',\n",
       " 'Season': 'Unknown',\n",
       " '_id': ObjectId('59f68b8a3339a20cad26f13b'),\n",
       " 'intGapOrigin': 1,\n",
       " 'intGapPres': 1,\n",
       " 'intGapRepro': 0,\n",
       " 'intGapSeas': 0,\n",
       " 'strHUC12RNG': 20600020101,\n",
       " 'strUC': 'bCOEIx'}"
      ]
     },
     "metadata": {},
     "output_type": "display_data"
    },
    {
     "data": {
      "text/plain": [
       "{'Origin': 'Native',\n",
       " 'Presence': 'Known/extant',\n",
       " 'Reproduction': 'Unknown',\n",
       " 'Season': 'Unknown',\n",
       " '_id': ObjectId('59f68b8a3339a20cad26f13d'),\n",
       " 'intGapOrigin': 1,\n",
       " 'intGapPres': 1,\n",
       " 'intGapRepro': 0,\n",
       " 'intGapSeas': 0,\n",
       " 'strHUC12RNG': 20600020103,\n",
       " 'strUC': 'bCOEIx'}"
      ]
     },
     "metadata": {},
     "output_type": "display_data"
    }
   ],
   "source": [
    "for rangeRecord in gapRangeDataCache.find({\"intGapRepro\":{\"$nin\":list(RangeCodesDict[\"Reproduction\"].keys())}}):\n",
    "    display (rangeRecord)"
   ]
  },
  {
   "cell_type": "code",
   "execution_count": 7,
   "metadata": {
    "collapsed": false,
    "deletable": true,
    "editable": true
   },
   "outputs": [
    {
     "data": {
      "text/plain": [
       "{'Origin': 'Native',\n",
       " 'Presence': 'Known/extant',\n",
       " 'Reproduction': 'Unknown',\n",
       " 'Season': 'Unknown',\n",
       " '_id': ObjectId('59f68b8a3339a20cad26f13b'),\n",
       " 'intGapOrigin': 1,\n",
       " 'intGapPres': 1,\n",
       " 'intGapRepro': 0,\n",
       " 'intGapSeas': 0,\n",
       " 'strHUC12RNG': 20600020101,\n",
       " 'strUC': 'bCOEIx'}"
      ]
     },
     "metadata": {},
     "output_type": "display_data"
    },
    {
     "data": {
      "text/plain": [
       "{'Origin': 'Native',\n",
       " 'Presence': 'Known/extant',\n",
       " 'Reproduction': 'Unknown',\n",
       " 'Season': 'Unknown',\n",
       " '_id': ObjectId('59f68b8a3339a20cad26f13d'),\n",
       " 'intGapOrigin': 1,\n",
       " 'intGapPres': 1,\n",
       " 'intGapRepro': 0,\n",
       " 'intGapSeas': 0,\n",
       " 'strHUC12RNG': 20600020103,\n",
       " 'strUC': 'bCOEIx'}"
      ]
     },
     "metadata": {},
     "output_type": "display_data"
    },
    {
     "data": {
      "text/plain": [
       "{'Origin': 'Native',\n",
       " 'Presence': 'Known/extant',\n",
       " 'Reproduction': 'Nonbreeding',\n",
       " 'Season': 'Unknown',\n",
       " '_id': ObjectId('59f68d9c3339a20cad302b6f'),\n",
       " 'intGapOrigin': 1,\n",
       " 'intGapPres': 1,\n",
       " 'intGapRepro': 2,\n",
       " 'intGapSeas': 0,\n",
       " 'strHUC12RNG': 30202040404,\n",
       " 'strUC': 'bCOTEx'}"
      ]
     },
     "metadata": {},
     "output_type": "display_data"
    }
   ],
   "source": [
    "for rangeRecord in gapRangeDataCache.find({\"intGapSeas\":{\"$nin\":list(RangeCodesDict[\"Season\"].keys())}}):\n",
    "    display (rangeRecord)"
   ]
  },
  {
   "cell_type": "code",
   "execution_count": null,
   "metadata": {
    "collapsed": true,
    "deletable": true,
    "editable": true
   },
   "outputs": [],
   "source": []
  }
 ],
 "metadata": {
  "kernelspec": {
   "display_name": "Python 3",
   "language": "python",
   "name": "python3"
  },
  "language_info": {
   "codemirror_mode": {
    "name": "ipython",
    "version": 3
   },
   "file_extension": ".py",
   "mimetype": "text/x-python",
   "name": "python",
   "nbconvert_exporter": "python",
   "pygments_lexer": "ipython3",
   "version": "3.5.3"
  }
 },
 "nbformat": 4,
 "nbformat_minor": 1
}
